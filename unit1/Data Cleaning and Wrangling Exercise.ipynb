{
 "cells": [
  {
   "cell_type": "markdown",
   "metadata": {},
   "source": [
    "## Data Cleaning & Wrangling: The Titanic Competition (from Kaggle)\n",
    "\n",
    "#### In this tutorial we'll learn how to:\n",
    "\n",
    "* Explore and clean data from the Titanic dataset from Kaggle.\n",
    "\n",
    "* We'll have questions for you to answer as well.\n",
    "\n",
    "You can go to the Kaggle website to download the dataset: https://www.kaggle.com/c/titanic/data\n",
    "\n",
    "Make sure to download the test.csv and train.csv file from the kaggle website."
   ]
  },
  {
   "cell_type": "code",
   "execution_count": null,
   "metadata": {
    "collapsed": true
   },
   "outputs": [],
   "source": [
    "#############################################################\n",
    "# The Pandas library has many useful data manipulation functions that we will use.\n",
    "import pandas as pd\n",
    "\n",
    "#############################################################\n",
    "# Import the train and test datasets into Python.\n",
    "\n",
    "test = pd.read_csv(\"test.csv\")\n",
    "train = pd.read_csv(\"train.csv\")\n",
    "\n",
    "#############################################################\n",
    "# Prnting the dimensions of the train and test dataset.\n",
    "print(\"Dimensions of train: {}\".format(train.shape))\n",
    "print(\"Dimensions of test: {}\".format(test.shape))"
   ]
  },
  {
   "cell_type": "markdown",
   "metadata": {},
   "source": [
    "### Exploring the data\n",
    "\n",
    "The files we just opened are available on the data page for the Titanic competition on Kaggle. That page also has a data dictionary, which explains the various columns that make up the data set. Below are the descriptions contained in that data dictionary:\n",
    "\n",
    "* PassengerID— A column added by Kaggle to identify each row and make submissions easier\n",
    "* Survived— Whether the passenger survived or not and the value we are predicting (0=No, 1=Yes)\n",
    "* Pclass—\tThe class of the ticket the passenger purchased (1=1st, 2=2nd, 3=3rd)\n",
    "* Sex— The passenger's sex\n",
    "* Age— The passenger's age in years\n",
    "* SibSp— The number of siblings or spouses the passenger had aboard the Titanic\n",
    "* Parch— The number of parents or children the passenger had aboard the Titanic\n",
    "* Ticket— The passenger's ticket number\n",
    "* Fare— The fare the passenger paid\n",
    "* Cabin— The passenger's cabin number\n",
    "* Embarked— The port where the passenger embarked (C=Cherbourg, Q=Queenstown, S=Southampton)"
   ]
  },
  {
   "cell_type": "markdown",
   "metadata": {},
   "source": [
    "### Question 1:\n",
    "\n",
    "Please show both the first few rows of the dataset."
   ]
  },
  {
   "cell_type": "markdown",
   "metadata": {},
   "source": [
    "### Question 2:\n",
    "\n",
    "1. Please create a new subset of data and call it **sub_data**. The subset of data should consist of the columns *Sex* and *Survived*.\n",
    "2. Show the data types of the columns *Sex*, *Survived*, and *Pclass*.\n",
    "3. Using the *DataFrame.pivot_table()* function (look it up on Google as well) pivot the values such that you return a bar plot and *Sex* is on the x-axis, and the number of survived is on the y-axis.\n",
    "4. Do the same for part 3, but set the x-axis to be *Pclass*, and the y-axis to be *Survived*"
   ]
  },
  {
   "cell_type": "code",
   "execution_count": null,
   "metadata": {
    "collapsed": true
   },
   "outputs": [],
   "source": [
    "import matplotlib.pyplot as plt\n",
    "%matplotlib inline"
   ]
  },
  {
   "cell_type": "code",
   "execution_count": null,
   "metadata": {
    "collapsed": true
   },
   "outputs": [],
   "source": [
    "### Question 3:\n"
   ]
  }
 ],
 "metadata": {
  "kernelspec": {
   "display_name": "Python 3",
   "language": "python",
   "name": "python3"
  },
  "language_info": {
   "codemirror_mode": {
    "name": "ipython",
    "version": 3
   },
   "file_extension": ".py",
   "mimetype": "text/x-python",
   "name": "python",
   "nbconvert_exporter": "python",
   "pygments_lexer": "ipython3",
   "version": "3.6.0"
  }
 },
 "nbformat": 4,
 "nbformat_minor": 2
}
